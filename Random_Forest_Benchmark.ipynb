{
 "cells": [
  {
   "cell_type": "code",
   "execution_count": 1,
   "id": "65776624-d2d2-4111-bcce-fe633da1b562",
   "metadata": {},
   "outputs": [
    {
     "name": "stderr",
     "output_type": "stream",
     "text": [
      "[nltk_data] Downloading package stopwords to\n",
      "[nltk_data]     C:\\Users\\charl\\AppData\\Roaming\\nltk_data...\n",
      "[nltk_data]   Package stopwords is already up-to-date!\n",
      "[nltk_data] Downloading package punkt to\n",
      "[nltk_data]     C:\\Users\\charl\\AppData\\Roaming\\nltk_data...\n",
      "[nltk_data]   Package punkt is already up-to-date!\n",
      "[nltk_data] Downloading package punkt_tab to\n",
      "[nltk_data]     C:\\Users\\charl\\AppData\\Roaming\\nltk_data...\n",
      "[nltk_data]   Package punkt_tab is already up-to-date!\n"
     ]
    },
    {
     "data": {
      "text/plain": [
       "True"
      ]
     },
     "execution_count": 1,
     "metadata": {},
     "output_type": "execute_result"
    }
   ],
   "source": [
    "# Import necessary libraries\n",
    "import pandas as pd\n",
    "import numpy as np\n",
    "from nltk.corpus import stopwords\n",
    "from nltk.tokenize import word_tokenize\n",
    "from sklearn.feature_extraction.text import TfidfVectorizer\n",
    "from sklearn.preprocessing import OneHotEncoder\n",
    "from sklearn.compose import ColumnTransformer\n",
    "from sklearn.ensemble import RandomForestClassifier\n",
    "from sklearn.model_selection import train_test_split\n",
    "from sklearn.metrics import classification_report, accuracy_score\n",
    "import re\n",
    "import nltk\n",
    "nltk.download('stopwords')\n",
    "nltk.download('punkt')\n",
    "nltk.download('punkt_tab')"
   ]
  },
  {
   "cell_type": "code",
   "execution_count": 2,
   "id": "1867e260-a81d-41d3-b7cb-04a378ffe118",
   "metadata": {},
   "outputs": [
    {
     "name": "stdout",
     "output_type": "stream",
     "text": [
      "   id keyword location                                               text  \\\n",
      "0   1     NaN      NaN  Our Deeds are the Reason of this #earthquake M...   \n",
      "1   4     NaN      NaN             Forest fire near La Ronge Sask. Canada   \n",
      "2   5     NaN      NaN  All residents asked to 'shelter in place' are ...   \n",
      "3   6     NaN      NaN  13,000 people receive #wildfires evacuation or...   \n",
      "4   7     NaN      NaN  Just got sent this photo from Ruby #Alaska as ...   \n",
      "\n",
      "   target  \n",
      "0       1  \n",
      "1       1  \n",
      "2       1  \n",
      "3       1  \n",
      "4       1  \n"
     ]
    }
   ],
   "source": [
    "# Load data\n",
    "train_data = pd.read_csv('train.csv')\n",
    "\n",
    "# Check that the data was loaded properly\n",
    "print(train_data.head())"
   ]
  },
  {
   "cell_type": "code",
   "execution_count": 3,
   "id": "8a19cfdb-058b-47bf-b44d-23cb677232ff",
   "metadata": {},
   "outputs": [
    {
     "name": "stdout",
     "output_type": "stream",
     "text": [
      "   id     keyword          location  \\\n",
      "0   1  no_keyword  unknown_location   \n",
      "1   4  no_keyword  unknown_location   \n",
      "2   5  no_keyword  unknown_location   \n",
      "3   6  no_keyword  unknown_location   \n",
      "4   7  no_keyword  unknown_location   \n",
      "\n",
      "                                                text  target  \n",
      "0       deeds reason earthquake may allah forgive us       1  \n",
      "1              forest fire near la ronge sask canada       1  \n",
      "2  residents asked shelter place notified officer...       1  \n",
      "3  people receive wildfires evacuation orders cal...       1  \n",
      "4  got sent photo ruby alaska smoke wildfires pou...       1  \n"
     ]
    }
   ],
   "source": [
    "#Clean the data before testing\n",
    "\n",
    "stop_words = set(stopwords.words('english'))\n",
    "\n",
    "# Fill missing keywords with 'no_keyword'\n",
    "train_data['keyword'] = train_data['keyword'].fillna('no_keyword')\n",
    "\n",
    "# Fill missing locations with 'unknown_location'\n",
    "train_data['location'] = train_data['location'].fillna('unknown_location')\n",
    "\n",
    "# Convert to lowercase\n",
    "train_data['text'] = train_data['text'].str.lower()\n",
    "\n",
    "# Remove URLs\n",
    "train_data['text'] = train_data['text'].apply(lambda x: re.sub(r'http\\S+|www\\S+|https\\S+', '', x, flags=re.MULTILINE))\n",
    "\n",
    "# Remove special characters and numbers\n",
    "train_data['text'] = train_data['text'].apply(lambda x: re.sub(r'\\W', ' ', x))\n",
    "train_data['text'] = train_data['text'].apply(lambda x: re.sub(r'\\d', '', x))\n",
    "\n",
    "# Remove extra spaces\n",
    "train_data['text'] = train_data['text'].apply(lambda x: re.sub(r'\\s+', ' ', x).strip())\n",
    "\n",
    "# Tokenize and remove stopwords\n",
    "train_data['text'] = train_data['text'].apply(\n",
    "    lambda x: ' '.join([word for word in word_tokenize(x) if word not in stop_words])\n",
    ")\n",
    "\n",
    "# Check that the data was cleaned properly\n",
    "print(train_data.head())"
   ]
  },
  {
   "cell_type": "code",
   "execution_count": 10,
   "id": "72dd39df-2498-4a8c-8d33-0889bf9e1f13",
   "metadata": {},
   "outputs": [
    {
     "name": "stdout",
     "output_type": "stream",
     "text": [
      "              precision    recall  f1-score   support\n",
      "\n",
      "           0       0.78      0.88      0.82       864\n",
      "           1       0.81      0.67      0.73       659\n",
      "\n",
      "    accuracy                           0.79      1523\n",
      "   macro avg       0.79      0.77      0.78      1523\n",
      "weighted avg       0.79      0.79      0.78      1523\n",
      "\n"
     ]
    }
   ],
   "source": [
    "# Add keyword to text\n",
    "train_data['text'] = train_data['keyword'] + ' ' + train_data['text']\n",
    "\n",
    "# Initialize vectorizer\n",
    "tfidf = TfidfVectorizer(max_features= 5000, ngram_range = (1,2), min_df = 5)\n",
    "\n",
    "# Fit and transform training text data\n",
    "X_train = tfidf.fit_transform(train_data['text']).toarray()\n",
    "y_train = train_data['target']\n",
    "\n",
    "# Split the training data\n",
    "X_train_split, X_val, y_train_split, y_val = train_test_split(\n",
    "    X_train, y_train, test_size=0.2, random_state= 6\n",
    ")\n",
    "\n",
    "# Initialize Random Forest Classifier\n",
    "rf_model = RandomForestClassifier(n_estimators=100, random_state= 6)\n",
    "\n",
    "# Train model on training split\n",
    "rf_model.fit(X_train_split, y_train_split)\n",
    "\n",
    "# Predict on validation set\n",
    "y_pred = rf_model.predict(X_val)\n",
    "\n",
    "# Evaluate performance\n",
    "print(classification_report(y_val, y_pred))"
   ]
  },
  {
   "cell_type": "code",
   "execution_count": null,
   "id": "39750aec-81f6-4217-b90d-4f1d7d379d61",
   "metadata": {},
   "outputs": [],
   "source": []
  }
 ],
 "metadata": {
  "kernelspec": {
   "display_name": "Python 3 (ipykernel)",
   "language": "python",
   "name": "python3"
  },
  "language_info": {
   "codemirror_mode": {
    "name": "ipython",
    "version": 3
   },
   "file_extension": ".py",
   "mimetype": "text/x-python",
   "name": "python",
   "nbconvert_exporter": "python",
   "pygments_lexer": "ipython3",
   "version": "3.13.1"
  }
 },
 "nbformat": 4,
 "nbformat_minor": 5
}
